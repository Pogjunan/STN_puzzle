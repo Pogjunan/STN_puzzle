{
 "cells": [
  {
   "cell_type": "markdown",
   "id": "222ed694-11d5-4e53-9da6-2bf9815e91c2",
   "metadata": {},
   "source": [
    "# `코드해석과 시사점`"
   ]
  },
  {
   "cell_type": "code",
   "execution_count": 1,
   "id": "89801ebf-bba0-4986-9e34-e88a862ec60e",
   "metadata": {
    "tags": []
   },
   "outputs": [],
   "source": [
    "# jigsaw-puzzle-solving-with-spatialtransformer.ipynb"
   ]
  },
  {
   "cell_type": "markdown",
   "id": "b5d4d8e5-c4d8-4fe1-9fe6-2b7703b27509",
   "metadata": {},
   "source": [
    ">"
   ]
  },
  {
   "cell_type": "markdown",
   "id": "a1140cac-8cb4-4068-8f49-cf25f6b16689",
   "metadata": {},
   "source": [
    "`-` 직소퍼즐을 풀기위한 시각적 표현의 **비지도학습**이 핵심 아이디어 입니다."
   ]
  },
  {
   "cell_type": "markdown",
   "id": "895a4715-0f6d-4b89-a5f6-fe8fbd33b12f",
   "metadata": {
    "tags": []
   },
   "source": [
    "# 과정\n",
    "1. 이미지 찾기\n",
    "2. 이미지 정사각형 타일로 자르기\n",
    "3. 타일 섞기 "
   ]
  },
  {
   "cell_type": "markdown",
   "id": "ed86da38-c10a-4363-9bc3-29dff6e14219",
   "metadata": {
    "tags": []
   },
   "source": [
    "# Auto-Encoder 이용\n",
    "`-` 공간 변형 네트워크(SPATIAL TRANSFORMER NETWORKS) 이용"
   ]
  },
  {
   "cell_type": "markdown",
   "id": "65ade317-dd51-4f3d-a5ea-3882bdbbaf02",
   "metadata": {
    "tags": []
   },
   "source": [
    "> SPATIAL TRANSFORMER NETWORKS 란?"
   ]
  },
  {
   "cell_type": "code",
   "execution_count": null,
   "id": "bf818935-2eeb-4309-91f6-cb81782d016a",
   "metadata": {},
   "outputs": [],
   "source": []
  }
 ],
 "metadata": {
  "kernelspec": {
   "display_name": "Python 3 (ipykernel)",
   "language": "python",
   "name": "python3"
  },
  "language_info": {
   "codemirror_mode": {
    "name": "ipython",
    "version": 3
   },
   "file_extension": ".py",
   "mimetype": "text/x-python",
   "name": "python",
   "nbconvert_exporter": "python",
   "pygments_lexer": "ipython3",
   "version": "3.11.5"
  }
 },
 "nbformat": 4,
 "nbformat_minor": 5
}
